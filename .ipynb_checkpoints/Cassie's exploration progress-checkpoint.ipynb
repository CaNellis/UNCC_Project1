{
 "cells": [
  {
   "cell_type": "markdown",
   "metadata": {},
   "source": [
    "## Data Exploration"
   ]
  },
  {
   "cell_type": "code",
   "execution_count": 7,
   "metadata": {},
   "outputs": [
    {
     "data": {
      "text/html": [
       "<div>\n",
       "<style scoped>\n",
       "    .dataframe tbody tr th:only-of-type {\n",
       "        vertical-align: middle;\n",
       "    }\n",
       "\n",
       "    .dataframe tbody tr th {\n",
       "        vertical-align: top;\n",
       "    }\n",
       "\n",
       "    .dataframe thead th {\n",
       "        text-align: right;\n",
       "    }\n",
       "</style>\n",
       "<table border=\"1\" class=\"dataframe\">\n",
       "  <thead>\n",
       "    <tr style=\"text-align: right;\">\n",
       "      <th></th>\n",
       "      <th>Year</th>\n",
       "      <th>Cause Name</th>\n",
       "      <th>State</th>\n",
       "      <th>Deaths</th>\n",
       "      <th>Age-adjusted Death Rate</th>\n",
       "    </tr>\n",
       "  </thead>\n",
       "  <tbody>\n",
       "    <tr>\n",
       "      <th>0</th>\n",
       "      <td>2016</td>\n",
       "      <td>Unintentional injuries</td>\n",
       "      <td>Alabama</td>\n",
       "      <td>2755</td>\n",
       "      <td>55.5</td>\n",
       "    </tr>\n",
       "    <tr>\n",
       "      <th>1</th>\n",
       "      <td>2016</td>\n",
       "      <td>Unintentional injuries</td>\n",
       "      <td>Alaska</td>\n",
       "      <td>439</td>\n",
       "      <td>63.1</td>\n",
       "    </tr>\n",
       "    <tr>\n",
       "      <th>2</th>\n",
       "      <td>2016</td>\n",
       "      <td>Unintentional injuries</td>\n",
       "      <td>Arizona</td>\n",
       "      <td>4010</td>\n",
       "      <td>54.2</td>\n",
       "    </tr>\n",
       "    <tr>\n",
       "      <th>3</th>\n",
       "      <td>2016</td>\n",
       "      <td>Unintentional injuries</td>\n",
       "      <td>Arkansas</td>\n",
       "      <td>1604</td>\n",
       "      <td>51.8</td>\n",
       "    </tr>\n",
       "    <tr>\n",
       "      <th>4</th>\n",
       "      <td>2016</td>\n",
       "      <td>Unintentional injuries</td>\n",
       "      <td>California</td>\n",
       "      <td>13213</td>\n",
       "      <td>32.0</td>\n",
       "    </tr>\n",
       "  </tbody>\n",
       "</table>\n",
       "</div>"
      ],
      "text/plain": [
       "   Year              Cause Name       State  Deaths  Age-adjusted Death Rate\n",
       "0  2016  Unintentional injuries     Alabama    2755                     55.5\n",
       "1  2016  Unintentional injuries      Alaska     439                     63.1\n",
       "2  2016  Unintentional injuries     Arizona    4010                     54.2\n",
       "3  2016  Unintentional injuries    Arkansas    1604                     51.8\n",
       "4  2016  Unintentional injuries  California   13213                     32.0"
      ]
     },
     "execution_count": 7,
     "metadata": {},
     "output_type": "execute_result"
    }
   ],
   "source": [
    "import pandas as pd\n",
    "import matplotlib.pyplot as plt\n",
    "\n",
    "file3 = pd.read_csv('cleaned.csv')\n",
    "file3.head()"
   ]
  },
  {
   "cell_type": "code",
   "execution_count": null,
   "metadata": {},
   "outputs": [],
   "source": []
  },
  {
   "cell_type": "markdown",
   "metadata": {},
   "source": [
    "### Look at NC vs. US causes of death in 2016"
   ]
  },
  {
   "cell_type": "code",
   "execution_count": 8,
   "metadata": {},
   "outputs": [
    {
     "data": {
      "text/html": [
       "<div>\n",
       "<style scoped>\n",
       "    .dataframe tbody tr th:only-of-type {\n",
       "        vertical-align: middle;\n",
       "    }\n",
       "\n",
       "    .dataframe tbody tr th {\n",
       "        vertical-align: top;\n",
       "    }\n",
       "\n",
       "    .dataframe thead th {\n",
       "        text-align: right;\n",
       "    }\n",
       "</style>\n",
       "<table border=\"1\" class=\"dataframe\">\n",
       "  <thead>\n",
       "    <tr style=\"text-align: right;\">\n",
       "      <th></th>\n",
       "      <th>Deaths</th>\n",
       "      <th>Cause Percents</th>\n",
       "    </tr>\n",
       "    <tr>\n",
       "      <th>Cause Name</th>\n",
       "      <th></th>\n",
       "      <th></th>\n",
       "    </tr>\n",
       "  </thead>\n",
       "  <tbody>\n",
       "    <tr>\n",
       "      <th>Cancer</th>\n",
       "      <td>19523</td>\n",
       "      <td>29.69%</td>\n",
       "    </tr>\n",
       "    <tr>\n",
       "      <th>Heart disease</th>\n",
       "      <td>18266</td>\n",
       "      <td>27.78%</td>\n",
       "    </tr>\n",
       "    <tr>\n",
       "      <th>Unintentional injuries</th>\n",
       "      <td>5476</td>\n",
       "      <td>8.33%</td>\n",
       "    </tr>\n",
       "    <tr>\n",
       "      <th>CLRD</th>\n",
       "      <td>5311</td>\n",
       "      <td>8.08%</td>\n",
       "    </tr>\n",
       "    <tr>\n",
       "      <th>Stroke</th>\n",
       "      <td>4940</td>\n",
       "      <td>7.51%</td>\n",
       "    </tr>\n",
       "    <tr>\n",
       "      <th>Alzheimer's disease</th>\n",
       "      <td>4153</td>\n",
       "      <td>6.32%</td>\n",
       "    </tr>\n",
       "    <tr>\n",
       "      <th>Diabetes</th>\n",
       "      <td>2811</td>\n",
       "      <td>4.28%</td>\n",
       "    </tr>\n",
       "    <tr>\n",
       "      <th>Kidney disease</th>\n",
       "      <td>2002</td>\n",
       "      <td>3.04%</td>\n",
       "    </tr>\n",
       "    <tr>\n",
       "      <th>Influenza and pneumonia</th>\n",
       "      <td>1896</td>\n",
       "      <td>2.88%</td>\n",
       "    </tr>\n",
       "    <tr>\n",
       "      <th>Suicide</th>\n",
       "      <td>1373</td>\n",
       "      <td>2.09%</td>\n",
       "    </tr>\n",
       "  </tbody>\n",
       "</table>\n",
       "</div>"
      ],
      "text/plain": [
       "                         Deaths Cause Percents\n",
       "Cause Name                                    \n",
       "Cancer                    19523         29.69%\n",
       "Heart disease             18266         27.78%\n",
       "Unintentional injuries     5476          8.33%\n",
       "CLRD                       5311          8.08%\n",
       "Stroke                     4940          7.51%\n",
       "Alzheimer's disease        4153          6.32%\n",
       "Diabetes                   2811          4.28%\n",
       "Kidney disease             2002          3.04%\n",
       "Influenza and pneumonia    1896          2.88%\n",
       "Suicide                    1373          2.09%"
      ]
     },
     "execution_count": 8,
     "metadata": {},
     "output_type": "execute_result"
    }
   ],
   "source": [
    "#isolate data for NC causes in 2016\n",
    "NCOnly = file3.loc[file3[\"State\"] == \"North Carolina\", :]\n",
    "NCOnly.set_index(\"Year\")\n",
    "NCOnly2 = NCOnly.loc[NCOnly[\"Year\"] == 2016, :]\n",
    "NCOnly2\n",
    "# use initial data table to calculate percents for each death cause\n",
    "totalDeaths = NCOnly2[\"Deaths\"].sum()\n",
    "causeDeaths = NCOnly2.groupby('Cause Name')['Deaths'].sum()\n",
    " \n",
    "uPercent = (causeDeaths.loc['Unintentional injuries'] / totalDeaths) * 100\n",
    "aPercent = (causeDeaths.loc[\"Alzheimer's disease\"] / totalDeaths) * 100\n",
    "cancerPercent = (causeDeaths.loc['Cancer'] / totalDeaths) * 100\n",
    "CLRDPercent = (causeDeaths.loc['CLRD'] / totalDeaths) * 100\n",
    "diabetesPercent = (causeDeaths.loc['Diabetes'] / totalDeaths) * 100\n",
    "hPercent = (causeDeaths.loc['Heart disease'] / totalDeaths) * 100\n",
    "iPercent = (causeDeaths.loc['Influenza and pneumonia'] / totalDeaths) * 100\n",
    "kPercent = (causeDeaths.loc['Kidney disease'] / totalDeaths) * 100\n",
    "strokePercent = (causeDeaths.loc['Stroke'] / totalDeaths) * 100\n",
    "suicidePercent = (causeDeaths.loc['Suicide'] / totalDeaths) * 100\n",
    "\n",
    "# create datafrane to hold the data we already have\n",
    "causeDeathsDf = pd.DataFrame(causeDeaths)\n",
    "#define where new column should be located\n",
    "idx = 1\n",
    "# Define list for new coulmn\n",
    "causePercents = [aPercent, CLRDPercent, cancerPercent, diabetesPercent, hPercent, iPercent, kPercent, strokePercent, suicidePercent, uPercent]\n",
    "# insert new column into existing dataframe\n",
    "causeDeathsDf.insert(loc=idx, column='Cause Percents', value=causePercents)\n",
    "# sort cause percents in descending order (high to low)\n",
    "causeDeathsDf2 = causeDeathsDf.sort_values([\"Cause Percents\"], ascending=False)\n",
    "# format percentages\n",
    "causeDeathsDf2[\"Cause Percents\"] = causeDeathsDf2[\"Cause Percents\"].map(\"{:.2f}%\".format)\n",
    "#display dataframe\n",
    "causeDeathsDf2"
   ]
  },
  {
   "cell_type": "code",
   "execution_count": 9,
   "metadata": {},
   "outputs": [
    {
     "data": {
      "text/plain": [
       "<function matplotlib.pyplot.show(*args, **kw)>"
      ]
     },
     "execution_count": 9,
     "metadata": {},
     "output_type": "execute_result"
    },
    {
     "data": {
      "image/png": "[encoded data removed]",
      "text/plain": [
       "<Figure size 432x288 with 1 Axes>"
      ]
     },
     "metadata": {},
     "output_type": "display_data"
    }
   ],
   "source": [
    "# Create and plot pie Chart - reference: https://pythonspot.com/tag/pie-chart/\n",
    "labels = 'Unintentional injuries', \"Alzheimer's Disease\", 'Cancer', 'CLRD', 'Diabetes', 'Heart disease', 'Influenza and pneumonia', 'Kidney disease', 'Stroke', 'Suicide'\n",
    "sizes = [uPercent, aPercent, cancerPercent, CLRDPercent, diabetesPercent, hPercent, iPercent, kPercent, strokePercent, suicidePercent]\n",
    "#colors = ['#fb6557', '#83bdfc', '#dbd310']\n",
    "#explode = (0.1, 0, 0)  # explode 1st slice\n",
    "plt.pie(sizes, labels=labels, autopct='%1.1f%%', shadow=True, startangle=140)\n",
    "plt.title('Causes of Death in NC in 2016')\n",
    "# save figure\n",
    "#plt.savefig('TotalFaresPie.png', bbox_inches='tight')\n",
    "plt.show"
   ]
  },
  {
   "cell_type": "code",
   "execution_count": 10,
   "metadata": {},
   "outputs": [
    {
     "data": {
      "text/html": [
       "<div>\n",
       "<style scoped>\n",
       "    .dataframe tbody tr th:only-of-type {\n",
       "        vertical-align: middle;\n",
       "    }\n",
       "\n",
       "    .dataframe tbody tr th {\n",
       "        vertical-align: top;\n",
       "    }\n",
       "\n",
       "    .dataframe thead th {\n",
       "        text-align: right;\n",
       "    }\n",
       "</style>\n",
       "<table border=\"1\" class=\"dataframe\">\n",
       "  <thead>\n",
       "    <tr style=\"text-align: right;\">\n",
       "      <th></th>\n",
       "      <th>Deaths</th>\n",
       "      <th>Cause Percents</th>\n",
       "    </tr>\n",
       "    <tr>\n",
       "      <th>Cause Name</th>\n",
       "      <th></th>\n",
       "      <th></th>\n",
       "    </tr>\n",
       "  </thead>\n",
       "  <tbody>\n",
       "    <tr>\n",
       "      <th>Heart disease</th>\n",
       "      <td>635260</td>\n",
       "      <td>31.23%</td>\n",
       "    </tr>\n",
       "    <tr>\n",
       "      <th>Cancer</th>\n",
       "      <td>598038</td>\n",
       "      <td>29.40%</td>\n",
       "    </tr>\n",
       "    <tr>\n",
       "      <th>Unintentional injuries</th>\n",
       "      <td>161374</td>\n",
       "      <td>7.93%</td>\n",
       "    </tr>\n",
       "    <tr>\n",
       "      <th>CLRD</th>\n",
       "      <td>154596</td>\n",
       "      <td>7.60%</td>\n",
       "    </tr>\n",
       "    <tr>\n",
       "      <th>Stroke</th>\n",
       "      <td>142142</td>\n",
       "      <td>6.99%</td>\n",
       "    </tr>\n",
       "    <tr>\n",
       "      <th>Alzheimer's disease</th>\n",
       "      <td>116103</td>\n",
       "      <td>5.71%</td>\n",
       "    </tr>\n",
       "    <tr>\n",
       "      <th>Diabetes</th>\n",
       "      <td>80058</td>\n",
       "      <td>3.94%</td>\n",
       "    </tr>\n",
       "    <tr>\n",
       "      <th>Influenza and pneumonia</th>\n",
       "      <td>51537</td>\n",
       "      <td>2.53%</td>\n",
       "    </tr>\n",
       "    <tr>\n",
       "      <th>Kidney disease</th>\n",
       "      <td>50046</td>\n",
       "      <td>2.46%</td>\n",
       "    </tr>\n",
       "    <tr>\n",
       "      <th>Suicide</th>\n",
       "      <td>44965</td>\n",
       "      <td>2.21%</td>\n",
       "    </tr>\n",
       "  </tbody>\n",
       "</table>\n",
       "</div>"
      ],
      "text/plain": [
       "                         Deaths Cause Percents\n",
       "Cause Name                                    \n",
       "Heart disease            635260         31.23%\n",
       "Cancer                   598038         29.40%\n",
       "Unintentional injuries   161374          7.93%\n",
       "CLRD                     154596          7.60%\n",
       "Stroke                   142142          6.99%\n",
       "Alzheimer's disease      116103          5.71%\n",
       "Diabetes                  80058          3.94%\n",
       "Influenza and pneumonia   51537          2.53%\n",
       "Kidney disease            50046          2.46%\n",
       "Suicide                   44965          2.21%"
      ]
     },
     "execution_count": 10,
     "metadata": {},
     "output_type": "execute_result"
    }
   ],
   "source": [
    "#look at US causes of death in 2016\n",
    "# pull US info from un-cleaned data file\n",
    "file2 = pd.read_csv('NCHS_-_Leading_Causes_of_Death__United_States.csv')\n",
    "USOnly = file2.loc[file2[\"State\"] == \"United States\", :]\n",
    "# get rid of all causese\n",
    "USOnly2 = USOnly.loc[USOnly[\"Cause Name\"] != \"All causes\", :]\n",
    "USOnly2.set_index(\"Year\")\n",
    "#grab only 2016\n",
    "USOnly3 = USOnly2.loc[USOnly[\"Year\"] == 2016, :]\n",
    "USOnly3\n",
    "# use initial data table to calculate percents for each death cause\n",
    "totalDeaths2 = USOnly3[\"Deaths\"].sum()\n",
    "causeDeaths2 = USOnly3.groupby('Cause Name')['Deaths'].sum()\n",
    "    \n",
    "uPercent2 = (causeDeaths2.loc['Unintentional injuries'] / totalDeaths2) * 100\n",
    "aPercent2 = (causeDeaths2.loc[\"Alzheimer's disease\"] / totalDeaths2) * 100\n",
    "cancerPercent2 = (causeDeaths2.loc['Cancer'] / totalDeaths2) * 100\n",
    "CLRDPercent2 = (causeDeaths2.loc['CLRD'] / totalDeaths2) * 100\n",
    "diabetesPercent2 = (causeDeaths2.loc['Diabetes'] / totalDeaths2) * 100\n",
    "hPercent2 = (causeDeaths2.loc['Heart disease'] / totalDeaths2) * 100\n",
    "iPercent2 = (causeDeaths2.loc['Influenza and pneumonia'] / totalDeaths2) * 100\n",
    "kPercent2 = (causeDeaths2.loc['Kidney disease'] / totalDeaths2) * 100\n",
    "strokePercent2 = (causeDeaths2.loc['Stroke'] / totalDeaths2) * 100\n",
    "suicidePercent2 = (causeDeaths2.loc['Suicide'] / totalDeaths2) * 100\n",
    "\n",
    "# create datafrane to hold the data we already have\n",
    "causeDeathsDf3 = pd.DataFrame(causeDeaths2)\n",
    "#define where new column should be located\n",
    "idx = 1\n",
    "# Define list for new coulmn - in alaphabetical order because referenced dataframe has cause name alphabetical\n",
    "causePercents2 = [aPercent2, CLRDPercent2, cancerPercent2, diabetesPercent2, hPercent2, iPercent2, kPercent2, strokePercent2, suicidePercent2, uPercent2]\n",
    "# insert new column into existing dataframe\n",
    "causeDeathsDf3.insert(loc=idx, column='Cause Percents', value=causePercents2)\n",
    "# sort cause percents in descending order (high to low)\n",
    "causeDeathsDf4 = causeDeathsDf3.sort_values([\"Cause Percents\"], ascending=False)\n",
    "# format percentages\n",
    "causeDeathsDf4[\"Cause Percents\"] = causeDeathsDf4[\"Cause Percents\"].map(\"{:.2f}%\".format)\n",
    "#display dataframe\n",
    "causeDeathsDf4"
   ]
  },
  {
   "cell_type": "code",
   "execution_count": 11,
   "metadata": {},
   "outputs": [
    {
     "data": {
      "text/plain": [
       "<function matplotlib.pyplot.show(*args, **kw)>"
      ]
     },
     "execution_count": 11,
     "metadata": {},
     "output_type": "execute_result"
    },
    {
     "data": {
      "image/png": "[encoded data removed]",
      "text/plain": [
       "<Figure size 432x288 with 1 Axes>"
      ]
     },
     "metadata": {},
     "output_type": "display_data"
    }
   ],
   "source": [
    "# Create and plot pie Chart - reference: https://pythonspot.com/tag/pie-chart/\n",
    "sizes2 = [uPercent2, aPercent2, cancerPercent2, CLRDPercent2, diabetesPercent2, hPercent2, iPercent2, kPercent2, strokePercent2, suicidePercent2]\n",
    "#colors = ['#fb6557', '#83bdfc', '#dbd310']\n",
    "#explode = (0.1, 0, 0)  # explode 1st slice\n",
    "plt.pie(sizes2, labels=labels, autopct='%1.1f%%', shadow=True, startangle=140)\n",
    "plt.title('Causes of Death in US in 2016')\n",
    "# save figure\n",
    "#plt.savefig('TotalFaresPie.png', bbox_inches='tight')\n",
    "plt.show"
   ]
  },
  {
   "cell_type": "code",
   "execution_count": null,
   "metadata": {},
   "outputs": [],
   "source": [
    " "
   ]
  },
  {
   "cell_type": "markdown",
   "metadata": {},
   "source": [
    "### Look at NC suicide over 17 years"
   ]
  },
  {
   "cell_type": "code",
   "execution_count": 12,
   "metadata": {},
   "outputs": [],
   "source": [
    "#look at NC suicide over 17 years"
   ]
  },
  {
   "cell_type": "code",
   "execution_count": null,
   "metadata": {},
   "outputs": [],
   "source": []
  }
 ],
 "metadata": {
  "kernelspec": {
   "display_name": "Python 3",
   "language": "python",
   "name": "python3"
  },
  "language_info": {
   "codemirror_mode": {
    "name": "ipython",
    "version": 3
   },
   "file_extension": ".py",
   "mimetype": "text/x-python",
   "name": "python",
   "nbconvert_exporter": "python",
   "pygments_lexer": "ipython3",
   "version": "3.6.5"
  }
 },
 "nbformat": 4,
 "nbformat_minor": 2
}
