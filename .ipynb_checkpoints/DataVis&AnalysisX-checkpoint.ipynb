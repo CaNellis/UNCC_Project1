{
 "cells": [
  {
   "cell_type": "markdown",
   "metadata": {},
   "source": [
    "# Data Exploration and Analysis\n",
    "We imported the following modules for our analysis:"
   ]
  },
  {
   "cell_type": "code",
   "execution_count": 2,
   "metadata": {},
   "outputs": [],
   "source": [
    "import pandas as pd\n",
    "import matplotlib.pyplot as plt\n",
    "import numpy as np\n",
    "import scipy.stats as stats "
   ]
  },
  {
   "cell_type": "markdown",
   "metadata": {},
   "source": [
    "## Part 1: Looking at NC vs. US causes of death in 2016"
   ]
  },
  {
   "cell_type": "markdown",
   "metadata": {},
   "source": [
    "### (a) Create Dataframe for US Percents for each cause of death"
   ]
  },
  {
   "cell_type": "code",
   "execution_count": 3,
   "metadata": {},
   "outputs": [
    {
     "data": {
      "text/html": [
       "<div>\n",
       "<style scoped>\n",
       "    .dataframe tbody tr th:only-of-type {\n",
       "        vertical-align: middle;\n",
       "    }\n",
       "\n",
       "    .dataframe tbody tr th {\n",
       "        vertical-align: top;\n",
       "    }\n",
       "\n",
       "    .dataframe thead th {\n",
       "        text-align: right;\n",
       "    }\n",
       "</style>\n",
       "<table border=\"1\" class=\"dataframe\">\n",
       "  <thead>\n",
       "    <tr style=\"text-align: right;\">\n",
       "      <th></th>\n",
       "      <th>Deaths</th>\n",
       "      <th>Cause Percents</th>\n",
       "    </tr>\n",
       "    <tr>\n",
       "      <th>Cause Name</th>\n",
       "      <th></th>\n",
       "      <th></th>\n",
       "    </tr>\n",
       "  </thead>\n",
       "  <tbody>\n",
       "    <tr>\n",
       "      <th>Heart disease</th>\n",
       "      <td>635260</td>\n",
       "      <td>31.23%</td>\n",
       "    </tr>\n",
       "    <tr>\n",
       "      <th>Cancer</th>\n",
       "      <td>598038</td>\n",
       "      <td>29.40%</td>\n",
       "    </tr>\n",
       "    <tr>\n",
       "      <th>Unintentional injuries</th>\n",
       "      <td>161374</td>\n",
       "      <td>7.93%</td>\n",
       "    </tr>\n",
       "    <tr>\n",
       "      <th>CLRD</th>\n",
       "      <td>154596</td>\n",
       "      <td>7.60%</td>\n",
       "    </tr>\n",
       "    <tr>\n",
       "      <th>Stroke</th>\n",
       "      <td>142142</td>\n",
       "      <td>6.99%</td>\n",
       "    </tr>\n",
       "    <tr>\n",
       "      <th>Alzheimer's disease</th>\n",
       "      <td>116103</td>\n",
       "      <td>5.71%</td>\n",
       "    </tr>\n",
       "    <tr>\n",
       "      <th>Diabetes</th>\n",
       "      <td>80058</td>\n",
       "      <td>3.94%</td>\n",
       "    </tr>\n",
       "    <tr>\n",
       "      <th>Influenza and pneumonia</th>\n",
       "      <td>51537</td>\n",
       "      <td>2.53%</td>\n",
       "    </tr>\n",
       "    <tr>\n",
       "      <th>Kidney disease</th>\n",
       "      <td>50046</td>\n",
       "      <td>2.46%</td>\n",
       "    </tr>\n",
       "    <tr>\n",
       "      <th>Suicide</th>\n",
       "      <td>44965</td>\n",
       "      <td>2.21%</td>\n",
       "    </tr>\n",
       "  </tbody>\n",
       "</table>\n",
       "</div>"
      ],
      "text/plain": [
       "                         Deaths Cause Percents\n",
       "Cause Name                                    \n",
       "Heart disease            635260         31.23%\n",
       "Cancer                   598038         29.40%\n",
       "Unintentional injuries   161374          7.93%\n",
       "CLRD                     154596          7.60%\n",
       "Stroke                   142142          6.99%\n",
       "Alzheimer's disease      116103          5.71%\n",
       "Diabetes                  80058          3.94%\n",
       "Influenza and pneumonia   51537          2.53%\n",
       "Kidney disease            50046          2.46%\n",
       "Suicide                   44965          2.21%"
      ]
     },
     "execution_count": 3,
     "metadata": {},
     "output_type": "execute_result"
    }
   ],
   "source": [
    "#look at US causes of death in 2016\n",
    "# pull US info from un-cleaned data file\n",
    "file2 = pd.read_csv('NCHS_-_Leading_Causes_of_Death__United_States.csv')\n",
    "USOnly = file2.loc[file2[\"State\"] == \"United States\", :]\n",
    "# get rid of all causese\n",
    "USOnly2 = USOnly.loc[USOnly[\"Cause Name\"] != \"All causes\", :]\n",
    "USOnly2.set_index(\"Year\")\n",
    "#grab only 2016\n",
    "USOnly3 = USOnly2.loc[USOnly[\"Year\"] == 2016, :]\n",
    "USOnly3\n",
    "# use initial data table to calculate percents for each death cause\n",
    "totalDeaths2 = USOnly3[\"Deaths\"].sum()\n",
    "causeDeaths2 = USOnly3.groupby('Cause Name')['Deaths'].sum()\n",
    "    \n",
    "uPercent2 = (causeDeaths2.loc['Unintentional injuries'] / totalDeaths2) * 100\n",
    "aPercent2 = (causeDeaths2.loc[\"Alzheimer's disease\"] / totalDeaths2) * 100\n",
    "cancerPercent2 = (causeDeaths2.loc['Cancer'] / totalDeaths2) * 100\n",
    "CLRDPercent2 = (causeDeaths2.loc['CLRD'] / totalDeaths2) * 100\n",
    "diabetesPercent2 = (causeDeaths2.loc['Diabetes'] / totalDeaths2) * 100\n",
    "hPercent2 = (causeDeaths2.loc['Heart disease'] / totalDeaths2) * 100\n",
    "iPercent2 = (causeDeaths2.loc['Influenza and pneumonia'] / totalDeaths2) * 100\n",
    "kPercent2 = (causeDeaths2.loc['Kidney disease'] / totalDeaths2) * 100\n",
    "strokePercent2 = (causeDeaths2.loc['Stroke'] / totalDeaths2) * 100\n",
    "suicidePercent2 = (causeDeaths2.loc['Suicide'] / totalDeaths2) * 100\n",
    "\n",
    "# create datafrane to hold the data we already have\n",
    "causeDeathsDf3 = pd.DataFrame(causeDeaths2)\n",
    "#define where new column should be located\n",
    "idx = 1\n",
    "# Define list for new coulmn - in alaphabetical order because referenced dataframe has cause name alphabetical\n",
    "causePercents2 = [aPercent2, CLRDPercent2, cancerPercent2, diabetesPercent2, hPercent2, iPercent2, kPercent2, strokePercent2, suicidePercent2, uPercent2]\n",
    "# insert new column into existing dataframe\n",
    "causeDeathsDf3.insert(loc=idx, column='Cause Percents', value=causePercents2)\n",
    "# sort cause percents in descending order (high to low)\n",
    "causeDeathsDf4 = causeDeathsDf3.sort_values([\"Cause Percents\"], ascending=False)\n",
    "# format percentages\n",
    "causeDeathsDf4[\"Cause Percents\"] = causeDeathsDf4[\"Cause Percents\"].map(\"{:.2f}%\".format)\n",
    "\n",
    "#display dataframe\n",
    "causeDeathsDf4"
   ]
  },
  {
   "cell_type": "markdown",
   "metadata": {},
   "source": [
    "#### The dataframe showed that Heart Disease and Cancer made up more than half of all US deaths in 2016."
   ]
  },
  {
   "cell_type": "markdown",
   "metadata": {},
   "source": [
    "### (b) Create pie plot for US Cause of Death Percentages in 2016"
   ]
  },
  {
   "cell_type": "code",
   "execution_count": 5,
   "metadata": {},
   "outputs": [
    {
     "data": {
      "image/png": "[encoded data removed]",
      "text/plain": [
       "<Figure size 432x288 with 1 Axes>"
      ]
     },
     "metadata": {},
     "output_type": "display_data"
    }
   ],
   "source": [
    "# Create and plot pie Chart - reference: https://pythonspot.com/tag/pie-chart/\n",
    "sizes2 = [uPercent2, aPercent2, cancerPercent2, CLRDPercent2, diabetesPercent2, hPercent2, iPercent2, kPercent2, strokePercent2, suicidePercent2]\n",
    "plt.pie(sizes2, labels=labels, autopct='%1.1f%%')\n",
    "plt.title('Causes of Death in US in 2016')\n",
    "# save figure\n",
    "#plt.savefig('TotalFaresPie.png', bbox_inches='tight')\n",
    "plt.show()"
   ]
  },
  {
   "cell_type": "markdown",
   "metadata": {},
   "source": [
    "### (c) We then Created another Dataframe for NC Percents for each cause of death"
   ]
  },
  {
   "cell_type": "code",
   "execution_count": 8,
   "metadata": {},
   "outputs": [
    {
     "data": {
      "text/html": [
       "<div>\n",
       "<style scoped>\n",
       "    .dataframe tbody tr th:only-of-type {\n",
       "        vertical-align: middle;\n",
       "    }\n",
       "\n",
       "    .dataframe tbody tr th {\n",
       "        vertical-align: top;\n",
       "    }\n",
       "\n",
       "    .dataframe thead th {\n",
       "        text-align: right;\n",
       "    }\n",
       "</style>\n",
       "<table border=\"1\" class=\"dataframe\">\n",
       "  <thead>\n",
       "    <tr style=\"text-align: right;\">\n",
       "      <th></th>\n",
       "      <th>Deaths</th>\n",
       "      <th>Cause Percents</th>\n",
       "    </tr>\n",
       "    <tr>\n",
       "      <th>Cause Name</th>\n",
       "      <th></th>\n",
       "      <th></th>\n",
       "    </tr>\n",
       "  </thead>\n",
       "  <tbody>\n",
       "    <tr>\n",
       "      <th>Cancer</th>\n",
       "      <td>19523</td>\n",
       "      <td>29.69%</td>\n",
       "    </tr>\n",
       "    <tr>\n",
       "      <th>Heart disease</th>\n",
       "      <td>18266</td>\n",
       "      <td>27.78%</td>\n",
       "    </tr>\n",
       "    <tr>\n",
       "      <th>Unintentional injuries</th>\n",
       "      <td>5476</td>\n",
       "      <td>8.33%</td>\n",
       "    </tr>\n",
       "    <tr>\n",
       "      <th>CLRD</th>\n",
       "      <td>5311</td>\n",
       "      <td>8.08%</td>\n",
       "    </tr>\n",
       "    <tr>\n",
       "      <th>Stroke</th>\n",
       "      <td>4940</td>\n",
       "      <td>7.51%</td>\n",
       "    </tr>\n",
       "    <tr>\n",
       "      <th>Alzheimer's disease</th>\n",
       "      <td>4153</td>\n",
       "      <td>6.32%</td>\n",
       "    </tr>\n",
       "    <tr>\n",
       "      <th>Diabetes</th>\n",
       "      <td>2811</td>\n",
       "      <td>4.28%</td>\n",
       "    </tr>\n",
       "    <tr>\n",
       "      <th>Kidney disease</th>\n",
       "      <td>2002</td>\n",
       "      <td>3.04%</td>\n",
       "    </tr>\n",
       "    <tr>\n",
       "      <th>Influenza and pneumonia</th>\n",
       "      <td>1896</td>\n",
       "      <td>2.88%</td>\n",
       "    </tr>\n",
       "    <tr>\n",
       "      <th>Suicide</th>\n",
       "      <td>1373</td>\n",
       "      <td>2.09%</td>\n",
       "    </tr>\n",
       "  </tbody>\n",
       "</table>\n",
       "</div>"
      ],
      "text/plain": [
       "                         Deaths Cause Percents\n",
       "Cause Name                                    \n",
       "Cancer                    19523         29.69%\n",
       "Heart disease             18266         27.78%\n",
       "Unintentional injuries     5476          8.33%\n",
       "CLRD                       5311          8.08%\n",
       "Stroke                     4940          7.51%\n",
       "Alzheimer's disease        4153          6.32%\n",
       "Diabetes                   2811          4.28%\n",
       "Kidney disease             2002          3.04%\n",
       "Influenza and pneumonia    1896          2.88%\n",
       "Suicide                    1373          2.09%"
      ]
     },
     "execution_count": 8,
     "metadata": {},
     "output_type": "execute_result"
    }
   ],
   "source": [
    "#isolate data for NC causes in 2016\n",
    "file3 = pd.read_csv('cleaned.csv')\n",
    "NCOnly = file3.loc[file3[\"State\"] == \"North Carolina\", :]\n",
    "NCOnly.set_index(\"Year\")\n",
    "NCOnly2 = NCOnly.loc[NCOnly[\"Year\"] == 2016, :]\n",
    "NCOnly2\n",
    "# use initial data table to calculate percents for each death cause\n",
    "totalDeaths = NCOnly2[\"Deaths\"].sum()\n",
    "causeDeaths = NCOnly2.groupby('Cause Name')['Deaths'].sum()\n",
    " \n",
    "uPercent = (causeDeaths.loc['Unintentional injuries'] / totalDeaths) * 100\n",
    "aPercent = (causeDeaths.loc[\"Alzheimer's disease\"] / totalDeaths) * 100\n",
    "cancerPercent = (causeDeaths.loc['Cancer'] / totalDeaths) * 100\n",
    "CLRDPercent = (causeDeaths.loc['CLRD'] / totalDeaths) * 100\n",
    "diabetesPercent = (causeDeaths.loc['Diabetes'] / totalDeaths) * 100\n",
    "hPercent = (causeDeaths.loc['Heart disease'] / totalDeaths) * 100\n",
    "iPercent = (causeDeaths.loc['Influenza and pneumonia'] / totalDeaths) * 100\n",
    "kPercent = (causeDeaths.loc['Kidney disease'] / totalDeaths) * 100\n",
    "strokePercent = (causeDeaths.loc['Stroke'] / totalDeaths) * 100\n",
    "suicidePercent = (causeDeaths.loc['Suicide'] / totalDeaths) * 100\n",
    "\n",
    "# create datafrane to hold the data we already have\n",
    "causeDeathsDf = pd.DataFrame(causeDeaths)\n",
    "#define where new column should be located\n",
    "idx = 1\n",
    "# Define list for new coulmn\n",
    "causePercents = [aPercent, CLRDPercent, cancerPercent, diabetesPercent, hPercent, iPercent, kPercent, strokePercent, suicidePercent, uPercent]\n",
    "# insert new column into existing dataframe\n",
    "causeDeathsDf.insert(loc=idx, column='Cause Percents', value=causePercents)\n",
    "# sort cause percents in descending order (high to low)\n",
    "causeDeathsDf2 = causeDeathsDf.sort_values([\"Cause Percents\"], ascending=False)\n",
    "# format percentages\n",
    "causeDeathsDf2[\"Cause Percents\"] = causeDeathsDf2[\"Cause Percents\"].map(\"{:.2f}%\".format)\n",
    "#display dataframe\n",
    "causeDeathsDf2"
   ]
  },
  {
   "cell_type": "markdown",
   "metadata": {},
   "source": [
    "###  (d) We created a pie plot for NC Cause of Death Percentages in 2016"
   ]
  },
  {
   "cell_type": "code",
   "execution_count": 9,
   "metadata": {},
   "outputs": [
    {
     "data": {
      "image/png": "[encoded data removed]",
      "text/plain": [
       "<Figure size 432x288 with 1 Axes>"
      ]
     },
     "metadata": {},
     "output_type": "display_data"
    }
   ],
   "source": [
    "# Create and plot pie Chart - reference: https://pythonspot.com/tag/pie-chart/\n",
    "labels = 'Unintentional injuries', \"Alzheimer's Disease\", 'Cancer', 'CLRD', 'Diabetes', 'Heart disease', 'Influenza and pneumonia', 'Kidney disease', 'Stroke', 'Suicide'\n",
    "sizes = [uPercent, aPercent, cancerPercent, CLRDPercent, diabetesPercent, hPercent, iPercent, kPercent, strokePercent, suicidePercent]\n",
    "plt.pie(sizes, labels=labels, autopct='%1.1f%%')\n",
    "plt.title('Causes of Death in NC in 2016')\n",
    "# save figure\n",
    "#plt.savefig('TotalFaresPie.png', bbox_inches='tight')\n",
    "plt.show()"
   ]
  },
  {
   "cell_type": "markdown",
   "metadata": {},
   "source": [
    "### (e) Combine NC and US Pie Charts"
   ]
  },
  {
   "cell_type": "code",
   "execution_count": null,
   "metadata": {},
   "outputs": [],
   "source": [
    "#combinedDf = pd.DataFrame({'NC Cause of Death Percentages': sizes, 'US Cause of Death Percentages': sizes2}, index=['Unintentional injuries', \"Alzheimer's Disease\", 'Cancer', 'CLRD', 'Diabetes', 'Heart disease', 'Influenza and pneumonia', 'Kidney disease', 'Stroke', 'Suicide'])\n",
    "# make the multiple plot\n",
    "#combinedDf.plot(kind='pie', subplots=True, autopct='%1.1f%%', figsize=(18,9))\n",
    "#plt.title(\"NC vs. US\")"
   ]
  },
  {
   "cell_type": "markdown",
   "metadata": {},
   "source": [
    "## Part 2: Look at NC and US Change in Death Rate over 17 years"
   ]
  },
  {
   "cell_type": "markdown",
   "metadata": {},
   "source": [
    "### (a) Create connected line chart for all individual cause of deaths in US over 17 years"
   ]
  },
  {
   "cell_type": "code",
   "execution_count": 12,
   "metadata": {},
   "outputs": [
    {
     "data": {
      "image/png": "[encoded data removed]",
      "text/plain": [
       "<Figure size 432x288 with 1 Axes>"
      ]
     },
     "metadata": {},
     "output_type": "display_data"
    }
   ],
   "source": [
    "# read file for US only causes of death, isolate heart disease data\n",
    "file7 = pd.read_csv('USOnly.csv')\n",
    "\n",
    "USHeart = file7.loc[file7[\"Cause Name\"] == \"Heart disease\"]\n",
    "USCancer = file7.loc[file7[\"Cause Name\"] == \"Cancer\", :]\n",
    "USSuicide = file7.loc[file7[\"Cause Name\"] == \"Suicide\", :]\n",
    "USUn = file7.loc[file7[\"Cause Name\"] == \"Unintentional injuries\", :]\n",
    "USCLRD = file7.loc[file7[\"Cause Name\"] == \"CLRD\", :]\n",
    "USStroke = file7.loc[file7[\"Cause Name\"] == \"Stroke\", :]\n",
    "USA = file7.loc[file7[\"Cause Name\"] == \"Alzheimer's disease\", :]\n",
    "USDiabetes = file7.loc[file7[\"Cause Name\"] == \"Diabetes\", :]\n",
    "USKid = file7.loc[file7[\"Cause Name\"] == \"Kidney disease\", :]\n",
    "USIn = file7.loc[file7[\"Cause Name\"] == \"Influenza and pneumonia\", :]\n",
    "\n",
    "plt.plot(USHeart['Year'], USHeart['Age-adjusted Death Rate'], linestyle='-', marker='o', label='Heart disease')\n",
    "plt.plot(USCancer['Year'], USCancer['Age-adjusted Death Rate'], linestyle='-', marker='o', label='Cancer')\n",
    "plt.plot(USUn['Year'], USUn['Age-adjusted Death Rate'], linestyle='-', marker='o', label='Unintentional injuries')\n",
    "plt.plot(USCLRD['Year'], USCLRD['Age-adjusted Death Rate'], linestyle='-', marker='o', label='CLRD')\n",
    "plt.plot(USStroke['Year'], USStroke['Age-adjusted Death Rate'], linestyle='-', marker='o', label='Stroke')\n",
    "plt.plot(USA['Year'], USA['Age-adjusted Death Rate'], linestyle='-', marker='o', label=\"Alzheimer's disease\")\n",
    "plt.plot(USDiabetes['Year'], USDiabetes['Age-adjusted Death Rate'], linestyle='-', marker='o', label='Diabetes')\n",
    "plt.plot(USKid['Year'], USKid['Age-adjusted Death Rate'], linestyle='-', marker='o', label='Kidney disease')\n",
    "plt.plot(USIn['Year'], USIn['Age-adjusted Death Rate'], linestyle='-', marker='o', label='Influenza and pneumonia')\n",
    "plt.plot(USSuicide['Year'], USSuicide['Age-adjusted Death Rate'], linestyle='-', marker='o', label='Suicide')\n",
    "\n",
    "plt.ylabel('Age-Adjusted Death Rate \\n \\n (per 100,000 population)')\n",
    "plt.xlabel('Year')\n",
    "plt.title('US Death Rates over past 17 Years')\n",
    "plt.legend(loc='best')\n",
    "plt.show()"
   ]
  },
  {
   "cell_type": "markdown",
   "metadata": {},
   "source": [
    "### (b) Create connected line chart for all individual cause of deaths in NC over 17 years"
   ]
  },
  {
   "cell_type": "code",
   "execution_count": 11,
   "metadata": {},
   "outputs": [
    {
     "data": {
      "image/png": "[encoded data removed]",
      "text/plain": [
       "<Figure size 432x288 with 1 Axes>"
      ]
     },
     "metadata": {},
     "output_type": "display_data"
    }
   ],
   "source": [
    "file3 = pd.read_csv('cleaned.csv')\n",
    "NCOnly = file3.loc[file3[\"State\"] == \"North Carolina\", :]\n",
    "\n",
    "NCHeart3 = NCOnly.loc[NCOnly[\"Cause Name\"] == \"Heart disease\", :]\n",
    "NCCancer3 = NCOnly.loc[NCOnly[\"Cause Name\"] == \"Cancer\", :]\n",
    "NCSuicide3 = NCOnly.loc[NCOnly[\"Cause Name\"] == \"Suicide\", :]\n",
    "NCUn = NCOnly.loc[NCOnly[\"Cause Name\"] == \"Unintentional injuries\", :]\n",
    "NCCLRD = NCOnly.loc[NCOnly[\"Cause Name\"] == \"CLRD\", :]\n",
    "NCStroke = NCOnly.loc[NCOnly[\"Cause Name\"] == \"Stroke\", :]\n",
    "NCA = NCOnly.loc[NCOnly[\"Cause Name\"] == \"Alzheimer's disease\", :]\n",
    "NCDiabetes = NCOnly.loc[NCOnly[\"Cause Name\"] == \"Diabetes\", :]\n",
    "NCKid = NCOnly.loc[NCOnly[\"Cause Name\"] == \"Kidney disease\", :]\n",
    "NCIn = NCOnly.loc[NCOnly[\"Cause Name\"] == \"Influenza and pneumonia\", :]\n",
    "\n",
    "plt.plot(NCCancer3['Year'], NCCancer3['Age-adjusted Death Rate'], linestyle='-', marker='o', label='Cancer')\n",
    "plt.plot(NCHeart3['Year'], NCHeart3['Age-adjusted Death Rate'], linestyle='-', marker='o', label='Heart Disease')\n",
    "plt.plot(NCUn['Year'], NCUn['Age-adjusted Death Rate'], linestyle='-', marker='o', label='Unintentional')\n",
    "plt.plot(NCCLRD['Year'], NCCLRD['Age-adjusted Death Rate'], linestyle='-', marker='o', label='CLRD')\n",
    "plt.plot(NCStroke['Year'], NCStroke['Age-adjusted Death Rate'], linestyle='-', marker='o', label='Stroke')\n",
    "plt.plot(NCA['Year'], NCA['Age-adjusted Death Rate'], linestyle='-', marker='o', label=\"Alzeheimer's\")\n",
    "plt.plot(NCDiabetes['Year'], NCDiabetes['Age-adjusted Death Rate'], linestyle='-', marker='o', label='Diabetes')\n",
    "plt.plot(NCKid['Year'], NCKid['Age-adjusted Death Rate'], linestyle='-', marker='o', label='Kidney')\n",
    "plt.plot(NCIn['Year'], NCIn['Age-adjusted Death Rate'], linestyle='-', marker='o', label='Influenza and pneumonia')\n",
    "plt.plot(NCSuicide3['Year'], NCSuicide3['Age-adjusted Death Rate'], linestyle='-', marker='o', label='Suicide')\n",
    "\n",
    "plt.ylabel('Age-Adjusted Death Rate \\n \\n (per 100,000 population)')\n",
    "plt.xlabel('Year')\n",
    "plt.title('NC Death Rates over past 17 Years')\n",
    "plt.legend(loc='best')\n",
    "plt.show()"
   ]
  },
  {
   "cell_type": "markdown",
   "metadata": {},
   "source": [
    "### (c) Show US and NC graphs together ... "
   ]
  },
  {
   "cell_type": "code",
   "execution_count": null,
   "metadata": {},
   "outputs": [],
   "source": []
  },
  {
   "cell_type": "markdown",
   "metadata": {},
   "source": [
    "### (d) Look at Total Death Rates in NC vs. US over 17 years"
   ]
  },
  {
   "cell_type": "code",
   "execution_count": null,
   "metadata": {},
   "outputs": [],
   "source": [
    "# read file for states all causes of death data\n",
    "file4 = pd.read_csv('allCausesOnly.csv')\n",
    "# isolate only NC\n",
    "isolateNC = file4.loc[file4[\"State\"] == \"North Carolina\", :]\n",
    "\n",
    "# read file for only US all causes of death data \n",
    "file5 = pd.read_csv('allCausesUSOnly.csv')\n",
    " \n",
    "# want to look at change over time - create plot-esque chart with connected scatter plot\n",
    "# graph one line for NC and one for US, then add labels, title, and legend\n",
    "plt.plot(isolateNC['Year'], isolateNC['Age-adjusted Death Rate'], linestyle='-', marker='o', label='North Carolina')\n",
    "plt.plot(file5['Year'], file5['Age-adjusted Death Rate'], linestyle='-', marker='o', label = 'United States')\n",
    "plt.ylabel('Age-Adjusted Death Rate \\n \\n (per 100,000 population)')\n",
    "plt.xlabel('Year')\n",
    "plt.title('NC vs US Total Death Rates over past 17 Years')\n",
    "plt.legend(loc='best')\n",
    "plt.show()"
   ]
  },
  {
   "cell_type": "markdown",
   "metadata": {},
   "source": [
    " ### (e) Chart #1 Leading Cause of Death (Heart Disease)'s death rates in NC and US over 17 years"
   ]
  },
  {
   "cell_type": "code",
   "execution_count": null,
   "metadata": {},
   "outputs": [],
   "source": [
    "# read file for cleaned states causes of death, isolate NC data, isolate heart disease data\n",
    "file3 = pd.read_csv('cleaned.csv')\n",
    "NCHeartDisease = file3.loc[file3[\"State\"] == \"North Carolina\", :]\n",
    "NCHeartDisease2 = NCHeartDisease.loc[NCHeartDisease[\"Cause Name\"] == \"Heart disease\", :]\n",
    "\n",
    "# read file for US only causes of death, isolate heart disease data\n",
    "file7 = pd.read_csv('USOnly.csv')\n",
    "USHeartDisease = file7.loc[file7[\"Cause Name\"] == \"Heart disease\", :]\n",
    "\n",
    "# want to look at change over time - create line plot-esque chart with connected scatter plot\n",
    "# graph one line for NC and one for US, then add labels, title, and legend\n",
    "plt.plot(NCHeartDisease2['Year'], NCHeartDisease2['Age-adjusted Death Rate'], linestyle='-', marker='o', label='North Carolina')\n",
    "plt.plot(USHeartDisease['Year'], USHeartDisease['Age-adjusted Death Rate'], linestyle='-', marker='o', label='United States')\n",
    "plt.ylabel('Age-Adjusted Death Rate \\n \\n (per 100,000 population)')\n",
    "plt.xlabel('Year')\n",
    "plt.title('NC vs US Death Rates due to Heart Disease over past 17 Years')\n",
    "plt.legend(loc='best')\n",
    "plt.show()"
   ]
  },
  {
   "cell_type": "markdown",
   "metadata": {},
   "source": [
    " ### (f) Chart Second Leading cause of Death (Cancer)'s death rates in NC vs US over 17 Years"
   ]
  },
  {
   "cell_type": "code",
   "execution_count": null,
   "metadata": {},
   "outputs": [],
   "source": [
    "# read file for cleaned states causes of death, isolate NC data, isolate heart disease data\n",
    "file3 = pd.read_csv('cleaned.csv')\n",
    "NCCancer = file3.loc[file3[\"State\"] == \"North Carolina\", :]\n",
    "NCCancer2 = NCCancer.loc[NCHeartDisease[\"Cause Name\"] == \"Cancer\", :]\n",
    "\n",
    "# read file for US only causes of death, isolate heart disease data\n",
    "file7 = pd.read_csv('USOnly.csv')\n",
    "USCancer = file7.loc[file7[\"Cause Name\"] == \"Cancer\", :]\n",
    "\n",
    "# want to look at change over time - create line plot-esque chart with connected scatter plot\n",
    "# graph one line for NC and one for US, then add labels, title, and legend\n",
    "plt.plot(NCCancer2['Year'], NCCancer2['Age-adjusted Death Rate'], linestyle='-', marker='o', label='North Carolina')\n",
    "plt.plot(USCancer['Year'], USCancer['Age-adjusted Death Rate'], linestyle='-', marker='o', label='United States')\n",
    "plt.ylabel('Age-Adjusted Death Rate \\n \\n (per 100,000 population)')\n",
    "plt.xlabel('Year')\n",
    "plt.title('NC vs US Death Rates due to Cancer over past 17 Years')\n",
    "plt.legend(loc='best')\n",
    "plt.show()"
   ]
  },
  {
   "cell_type": "markdown",
   "metadata": {},
   "source": [
    "### (g) Chart Third Leading cause of Death (Unintentional Inuries)'s death rates in NC vs US over 17 Years"
   ]
  },
  {
   "cell_type": "code",
   "execution_count": null,
   "metadata": {},
   "outputs": [],
   "source": [
    "# read file for cleaned states causes of death, isolate NC data, isolate suicide data\n",
    "file3 = pd.read_csv('cleaned.csv')\n",
    "NCUn = file3.loc[file3[\"State\"] == \"North Carolina\", :]\n",
    "NCUn2 = NCUn.loc[NCUn[\"Cause Name\"] == \"Unintentional injuries\", :]\n",
    "\n",
    "# read file for US only causes of death, isolate suicide data\n",
    "file7 = pd.read_csv('USOnly.csv')\n",
    "USUn = file7.loc[file7[\"Cause Name\"] == \"Unintentional injuries\", :]\n",
    "\n",
    "# want to look at change over time - create line plot-esque chart with connected scatter plot\n",
    "# graph one line for NC and one for US, then add labels, title, and legend\n",
    "plt.plot(NCUn2['Year'], NCUn2['Age-adjusted Death Rate'], linestyle='-', marker='o', label='North Carolina')\n",
    "plt.plot(USUn['Year'], USUn['Age-adjusted Death Rate'], linestyle='-', marker='o', label='United States')\n",
    "plt.ylabel('Age-Adjusted Death Rate \\n \\n (per 100,000 population)')\n",
    "plt.xlabel('Year')\n",
    "plt.title('NC vs US Death Rates due to Unintentional injuries over past 17 Years')\n",
    "plt.legend(loc='best')\n",
    "plt.show()"
   ]
  },
  {
   "cell_type": "markdown",
   "metadata": {},
   "source": [
    "### (h) Chart Suicide's Death Rates in NC and US over 17 Years"
   ]
  },
  {
   "cell_type": "code",
   "execution_count": null,
   "metadata": {},
   "outputs": [],
   "source": [
    "# read file for cleaned states causes of death, isolate NC data, isolate suicide data\n",
    "file3 = pd.read_csv('cleaned.csv')\n",
    "NCSuicide = file3.loc[file3[\"State\"] == \"North Carolina\", :]\n",
    "NCSuicide2 = NCSuicide.loc[NCSuicide[\"Cause Name\"] == \"Suicide\", :]\n",
    "\n",
    "# read file for US only causes of death, isolate suicide data\n",
    "file7 = pd.read_csv('USOnly.csv')\n",
    "USSuicide = file7.loc[file7[\"Cause Name\"] == \"Suicide\", :]\n",
    "\n",
    "# want to look at change over time - create line plot-esque chart with connected scatter plot\n",
    "# graph one line for NC and one for US, then add labels, title, and legend\n",
    "plt.plot(NCSuicide2['Year'], NCSuicide2['Age-adjusted Death Rate'], linestyle='-', marker='o', label='North Carolina')\n",
    "plt.plot(USSuicide['Year'], USSuicide['Age-adjusted Death Rate'], linestyle='-', marker='o', label='United States')\n",
    "plt.ylabel('Age-Adjusted Death Rate \\n \\n (per 100,000 population)')\n",
    "plt.xlabel('Year')\n",
    "plt.title('NC vs US Death Rates due to Suicide over past 17 Years')\n",
    "plt.legend(loc='best')\n",
    "plt.show()"
   ]
  },
  {
   "cell_type": "markdown",
   "metadata": {},
   "source": [
    " "
   ]
  },
  {
   "cell_type": "markdown",
   "metadata": {},
   "source": [
    "## Part 3: Look at NC and US Death Rates over 17 years"
   ]
  },
  {
   "cell_type": "markdown",
   "metadata": {},
   "source": [
    " ### (a) Create dataframe for 2016 Death Rates (All Causes) by Region"
   ]
  },
  {
   "cell_type": "code",
   "execution_count": null,
   "metadata": {},
   "outputs": [],
   "source": [
    "# read file for states all causes of death data\n",
    "file4 = pd.read_csv('allCausesOnly.csv')\n",
    "only2016 = file4.loc[file4[\"Year\"] == 2016, :]   \n",
    "\n",
    "# Group states by region (US Census Bureau divides US into 4 regions):\n",
    "Northeast = only2016.loc[only2016[\"State\"].isin([\"Maine\", \"New Hampshire\", \"Vermont\", \"Massachusetts\", \"Rhode Island\", \"Connecticut\", \"New York\", \"New Jersey\", \"Pennsylvania\"])]                            \n",
    "Midwest = only2016.loc[only2016[\"State\"].isin([\"Ohio\", \"Michigan\", \"Indiana\", \"Wisconsin\", \"Illinois\", \"Minnesota\", \"Iowa\", \"Missouri\", \"North Dakota\", \"South Dakota\", \"Nebraska\", \"Kansas\"])]\n",
    "South = only2016.loc[only2016[\"State\"].isin([\"Delaware\", \"Maryland\", \"Virginia\", \"West Virginia\", \"Kentucky\", \"North Carolina\", \"South Carolina\", \"Tennessee\", \"Georgia\", \"Florida\", \"Alabama\", \"Mississippi\", \"Arkansas\", \"Louisiana\", \"Texas\", \"Oklahoma\", \"District of Columbia\"])]\n",
    "West = only2016.loc[only2016[\"State\"].isin([\"Montana\", \"Idaho\", \"Wyoming\", \"Colorado\", \"New Mexico\", \"Arizona\", \"Utah\", \"Nevada\", \"California\", \"Oregon\", \"Washington\", \"Alaska\", \"Hawaii\"])]\n",
    "\n",
    "# calculate average death rate for each region\n",
    "NEMean = Northeast[\"Age-adjusted Death Rate\"].mean()\n",
    "MWMean = Midwest[\"Age-adjusted Death Rate\"].mean()\n",
    "SMean = South[\"Age-adjusted Death Rate\"].mean()\n",
    "WMean = West[\"Age-adjusted Death Rate\"].mean()\n",
    "NatMean = only2016[\"Age-adjusted Death Rate\"].mean()\n",
    "\n",
    "# create dataframe for regions, sort averages in descending order, format averages\n",
    "RegionDf = pd.DataFrame({\"Region\": [\"Northeast\", \"Midwest\", \"South\", \"West\"], \"All Causes Average\": [NEMean, MWMean, SMean, WMean]})\n",
    "RegionDf2 = RegionDf.sort_values([\"All Causes Average\"], ascending=False)\n",
    "RegionDf2[\"All Causes Average\"] = RegionDf2[\"All Causes Average\"].map(\"{:.0f}\".format)\n",
    "RegionDf2\n",
    "\n",
    "RegionPlusUSDf = pd.DataFrame({\"Region\": [\"US\",\"Northeast\", \"Midwest\", \"South\", \"West\"], \"Average AADR\": [NatMean,NEMean, MWMean, SMean, WMean]}).round(2)\n",
    "RegionPlusUSDf"
   ]
  },
  {
   "cell_type": "markdown",
   "metadata": {},
   "source": [
    "### (b) Create bar chart for 2016 Death Rates (All Causes) by Region"
   ]
  },
  {
   "cell_type": "code",
   "execution_count": null,
   "metadata": {
    "scrolled": true
   },
   "outputs": [],
   "source": [
    "Midwest.loc[:,'Region']='MidWest'\n",
    "#Midwest\n",
    "South.loc[:,'Region']='SouthernUS'\n",
    "#South.head()\n",
    "Northeast.loc[:,'Region']='NorthEast'\n",
    "#Northeast.head()\n",
    "West.loc[:,'Region']='WesternUS'\n",
    "#West.head()\n",
    "only2016.loc[:,'Region'] ='USA'\n",
    "#only2016.head()\n",
    "\n",
    "RegionPlusUSDf = pd.DataFrame({\"Region\": [\"US\",\"Northeast\", \"Midwest\", \"South\", \"West\"], \"Average AADR\": [NatMean,NEMean, MWMean, SMean, WMean]}).round(2)\n",
    "RegionPlusUSDf\n",
    "#for bar chart    \n",
    "x_axis = np.arange(len(RegionDf['Region']))\n",
    "ax = RegionDf.plot(kind='bar', title ='Age-Adjusted Death Rate By Region', figsize =(15,10), legend = True, fontsize =16)\n",
    "ax.set_xlabel('Region', fontsize=12)\n",
    "ax.set_ylabel('AADR',fontsize=12)\n",
    "regions=[value for value in x_axis]\n",
    "plt.xticks(regions,['Northeast','Midwest','South','West'])\n",
    "plt.show()"
   ]
  },
  {
   "cell_type": "code",
   "execution_count": null,
   "metadata": {},
   "outputs": [],
   "source": [
    "concatenatedRegions = pd.concat([only2016,Northeast, Midwest,South, West])\n",
    "concatenatedRegions.head()\n",
    "concatenatedRegions.boxplot(by='Region', column=['Age-adjusted Death Rate'],figsize=(20,10))\n",
    "group1 = concatenatedRegions[concatenatedRegions[\"Region\"] == 'MidWest'][\"Age-adjusted Death Rate\"]\n",
    "group2 = concatenatedRegions[concatenatedRegions[\"Region\"] == 'NorthEast'][\"Age-adjusted Death Rate\"]\n",
    "group3 = concatenatedRegions[concatenatedRegions[\"Region\"] == 'SouthernUS'][\"Age-adjusted Death Rate\"]\n",
    "group4 = concatenatedRegions[concatenatedRegions[\"Region\"] == 'USA'][\"Age-adjusted Death Rate\"]\n",
    "group5 = concatenatedRegions[concatenatedRegions[\"Region\"] == 'WesternUS'][\"Age-adjusted Death Rate\"]"
   ]
  },
  {
   "cell_type": "code",
   "execution_count": null,
   "metadata": {
    "scrolled": true
   },
   "outputs": [],
   "source": [
    "stats.f_oneway(group4, group4)"
   ]
  },
  {
   "cell_type": "markdown",
   "metadata": {},
   "source": [
    "### (c) Create dataframe for 2016 Suicide Death Rates by Region"
   ]
  },
  {
   "cell_type": "code",
   "execution_count": null,
   "metadata": {
    "scrolled": true
   },
   "outputs": [],
   "source": [
    "# read file for states all causes of death data\n",
    "file3 = pd.read_csv('cleaned.csv')\n",
    "only2016 = file3.loc[file3[\"Year\"] == 2016, :]\n",
    "onlySuicide = only2016.loc[only2016[\"Cause Name\"] == \"Suicide\", :]   \n",
    "\n",
    "# Group states by region (US Census Bureau divides US into 4 regions):\n",
    "Northeast2 = onlySuicide.loc[onlySuicide[\"State\"].isin([\"Maine\", \"New Hampshire\", \"Vermont\", \"Massachusetts\", \"Rhode Island\", \"Connecticut\", \"New York\", \"New Jersey\", \"Pennsylvania\"])]                            \n",
    "Midwest2 = onlySuicide.loc[onlySuicide[\"State\"].isin([\"Ohio\", \"Michigan\", \"Indiana\", \"Wisconsin\", \"Illinois\", \"Minnesota\", \"Iowa\", \"Missouri\", \"North Dakota\", \"South Dakota\", \"Nebraska\", \"Kansas\"])]\n",
    "South2 = onlySuicide.loc[onlySuicide[\"State\"].isin([\"Delaware\", \"Maryland\", \"Virginia\", \"West Virginia\", \"Kentucky\", \"North Carolina\", \"South Carolina\", \"Tennessee\", \"Georgia\", \"Florida\", \"Alabama\", \"Mississippi\", \"Arkansas\", \"Louisiana\", \"Texas\", \"Oklahoma\", \"District of Columbia\"])]\n",
    "West2 = onlySuicide.loc[onlySuicide[\"State\"].isin([\"Montana\", \"Idaho\", \"Wyoming\", \"Colorado\", \"New Mexico\", \"Arizona\", \"Utah\", \"Nevada\", \"California\", \"Oregon\", \"Washington\", \"Alaska\", \"Hawaii\"])]\n",
    "\n",
    "Midwest2.loc[:,'Region']='MidWest'\n",
    "South2.loc[:,'Region']='SouthernUS'\n",
    "Northeast2.loc[:,'Region']='NorthEast'\n",
    "West2.loc[:,'Region']='WesternUS'\n",
    "onlySuicide.loc[:,'Region'] ='USA'\n",
    "\n",
    "# calculate average death rate for each region\n",
    "NEMean2 = Northeast[\"Age-adjusted Death Rate\"].mean()\n",
    "MWMean2 = Midwest[\"Age-adjusted Death Rate\"].mean()\n",
    "SMean2 = (South[\"Age-adjusted Death Rate\"].mean())\n",
    "WMean2 = West[\"Age-adjusted Death Rate\"].mean()\n",
    "NatMean2 = only2016[\"Age-adjusted Death Rate\"].mean()\n",
    "\n",
    "# create dataframe for regions, sort averages in descending order, format averages\n",
    "RegionDf = pd.DataFrame({\"Region\": [\"Northeast\", \"Midwest\", \"South\", \"West\", \"USA\"], \"Suicide Average\": [NEMean2, MWMean2, SMean2, WMean2, NatMean2]})\n",
    "RegionDf2 = RegionDf.sort_values([\"Suicide Average\"], ascending=False)\n",
    "RegionDf2[\"Suicide Average\"] = RegionDf2[\"Suicide Average\"].map(\"{:.0f}\".format)\n",
    "\n",
    "RegionDf2"
   ]
  },
  {
   "cell_type": "code",
   "execution_count": null,
   "metadata": {},
   "outputs": [],
   "source": []
  },
  {
   "cell_type": "markdown",
   "metadata": {},
   "source": [
    "### (d) Create bar chart for 2016 Suicide Death Rates by Region"
   ]
  },
  {
   "cell_type": "code",
   "execution_count": null,
   "metadata": {},
   "outputs": [],
   "source": [
    "# define suicide means list\n",
    "suicideAverage = [NEMean2, MWMean2, SMean2, WMean2]\n",
    "# define regions list\n",
    "Region = [\"Northeast\", \"Midwest\", \"South\", \"West\"]\n",
    "# define height of bars\n",
    "height = suicideAverage\n",
    "# define names for bars\n",
    "bars = Region\n",
    "# create bars\n",
    "y_pos = np.arange(len(bars))\n",
    "plt.bar(y_pos, height)\n",
    "# create x-axis names\n",
    "plt.xticks(y_pos, bars)\n",
    "#\n",
    "plt.title(\"Average Suicide Death Rates by Region in 2016\")\n",
    "plt.xlabel(\"U.S. Region\")\n",
    "plt.ylabel(\"Age Adjusted Death Rate \\n \\n (per 100,000 population)\")\n",
    "# show chart\n",
    "plt.show()"
   ]
  },
  {
   "cell_type": "code",
   "execution_count": null,
   "metadata": {},
   "outputs": [],
   "source": [
    "concatenatedRegions2 = pd.concat([onlySuicide, Northeast2, Midwest2, South2, West2])\n",
    "concatenatedRegions2.head()"
   ]
  },
  {
   "cell_type": "code",
   "execution_count": null,
   "metadata": {},
   "outputs": [],
   "source": [
    "concatenatedRegions2.boxplot(by='Region', column=['Age-adjusted Death Rate'],figsize=(20,10))\n",
    "\n",
    "group10 = concatenatedRegions2[concatenatedRegions2[\"Region\"] == 'MidWest'][\"Age-adjusted Death Rate\"]\n",
    "group20 = concatenatedRegions2[concatenatedRegions2[\"Region\"] == 'NorthEast'][\"Age-adjusted Death Rate\"]\n",
    "group30 = concatenatedRegions2[concatenatedRegions2[\"Region\"] == 'SouthernUS'][\"Age-adjusted Death Rate\"]\n",
    "group40 = concatenatedRegions2[concatenatedRegions2[\"Region\"] == 'USA'][\"Age-adjusted Death Rate\"]\n",
    "group50 = concatenatedRegions2[concatenatedRegions2[\"Region\"] == 'WesternUS'][\"Age-adjusted Death Rate\"]"
   ]
  },
  {
   "cell_type": "code",
   "execution_count": null,
   "metadata": {},
   "outputs": [],
   "source": [
    "stats.f_oneway(group40, group40)"
   ]
  },
  {
   "cell_type": "code",
   "execution_count": null,
   "metadata": {},
   "outputs": [],
   "source": []
  },
  {
   "cell_type": "code",
   "execution_count": null,
   "metadata": {},
   "outputs": [],
   "source": []
  },
  {
   "cell_type": "code",
   "execution_count": null,
   "metadata": {},
   "outputs": [],
   "source": [
    " "
   ]
  },
  {
   "cell_type": "code",
   "execution_count": null,
   "metadata": {},
   "outputs": [],
   "source": []
  },
  {
   "cell_type": "code",
   "execution_count": null,
   "metadata": {},
   "outputs": [],
   "source": []
  }
 ],
 "metadata": {
  "kernelspec": {
   "display_name": "Python 3",
   "language": "python",
   "name": "python3"
  },
  "language_info": {
   "codemirror_mode": {
    "name": "ipython",
    "version": 3
   },
   "file_extension": ".py",
   "mimetype": "text/x-python",
   "name": "python",
   "nbconvert_exporter": "python",
   "pygments_lexer": "ipython3",
   "version": "3.6.5"
  }
 },
 "nbformat": 4,
 "nbformat_minor": 2
}
